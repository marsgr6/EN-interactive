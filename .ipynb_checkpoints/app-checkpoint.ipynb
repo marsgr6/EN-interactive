{
 "cells": [
  {
   "cell_type": "markdown",
   "metadata": {
    "slideshow": {
     "slide_type": "slide"
    }
   },
   "source": [
    "# Probabilidad y estadística interactiva"
   ]
  },
  {
   "cell_type": "markdown",
   "metadata": {
    "slideshow": {
     "slide_type": "notes"
    }
   },
   "source": [
    "## using\n",
    "\n",
    "* ipywidgets\n",
    "* seaborn"
   ]
  },
  {
   "cell_type": "markdown",
   "metadata": {
    "slideshow": {
     "slide_type": "notes"
    }
   },
   "source": [
    "* voila\n",
    "* reveal"
   ]
  },
  {
   "cell_type": "code",
   "execution_count": 1,
   "metadata": {
    "slideshow": {
     "slide_type": "-"
    }
   },
   "outputs": [],
   "source": [
    "import numpy as np\n",
    "import matplotlib.pyplot as plt\n",
    "from scipy.stats import norm\n",
    "from scipy.stats import t\n",
    "from scipy.stats import expon\n",
    "from scipy.stats import binom\n",
    "from scipy.stats import uniform\n",
    "import ipywidgets as widgets\n",
    "from IPython.display import display\n",
    "from IPython.display import display_html\n",
    "import seaborn as sns\n",
    "import pandas as pd\n",
    "import plotly.express as px\n",
    "import ipywidgets\n",
    "import plotly.figure_factory as ff\n",
    "import warnings\n",
    "warnings.filterwarnings('ignore')"
   ]
  },
  {
   "cell_type": "markdown",
   "metadata": {
    "slideshow": {
     "slide_type": "slide"
    }
   },
   "source": [
    "### Número de bines en un histograma\n",
    "\n",
    "- No hay un número \"mejor\" de bines. Diferentes números de bines pueden revelar diferentes características de los datos.\n",
    "- Aunque existen varias pautas y reglas generales para determinar un número \"óptimo\" de bines, estos métodos generalmente hacen fuertes suposiciones sobre la forma de la distribución. \n",
    "  - Según la distribución real de los datos y los objetivos del análisis, pueden ser apropiados diferentes anchos de intervalo, por lo que generalmente **se necesita experimentación para determinar un número de bines apropiado.** \n",
    "  \n",
    "- Vaya a la diapositiva abajo y determine el número adecuado de bines. "
   ]
  },
  {
   "cell_type": "code",
   "execution_count": 2,
   "metadata": {
    "slideshow": {
     "slide_type": "subslide"
    }
   },
   "outputs": [
    {
     "data": {
      "application/vnd.jupyter.widget-view+json": {
       "model_id": "86519d7b8509445893c9d68a45e32321",
       "version_major": 2,
       "version_minor": 0
      },
      "text/plain": [
       "VBox(children=(SelectionSlider(description='Número de bines', index=1, layout=Layout(width='70%'), options=(1,…"
      ]
     },
     "metadata": {},
     "output_type": "display_data"
    },
    {
     "data": {
      "application/vnd.jupyter.widget-view+json": {
       "model_id": "8189a0b4ccb4418b971d9db37c191dda",
       "version_major": 2,
       "version_minor": 0
      },
      "text/plain": [
       "Output()"
      ]
     },
     "metadata": {},
     "output_type": "display_data"
    }
   ],
   "source": [
    "np.random.seed(123)\n",
    "size = 100\n",
    "\n",
    "# create some exponential random data\n",
    "values = expon.rvs(scale=1/4, size=size)\n",
    "\n",
    "# Create gaussian noise\n",
    "noise = norm.rvs(loc=1, size=size)\n",
    "\n",
    "real_data = values + np.abs(noise)\n",
    "\n",
    "def hist_bins(b):\n",
    "    plt.figure(figsize=(8,6))\n",
    "    #plt.hist(real_data, bins=b, density=True, edgecolor=\"seagreen\")\n",
    "    ax = sns.histplot(x=real_data, bins=b, stat=\"density\", kde=True)\n",
    "    ax.lines[0].set_color('crimson')\n",
    "    plt.xlabel(\"X\")\n",
    "\n",
    "b = widgets.SelectionSlider(options=list(range(1,11))+[20, 30, 50, 100], value=2,\n",
    "    description='Número de bines',\n",
    "    layout=widgets.Layout(width='70%'))\n",
    "b.style = {'description_width': '300px'}\n",
    "\n",
    "ui = widgets.VBox(children=[b])\n",
    "\n",
    "out = widgets.interactive_output(hist_bins, {'b': b})\n",
    "\n",
    "display(ui, out)"
   ]
  },
  {
   "cell_type": "code",
   "execution_count": 3,
   "metadata": {
    "slideshow": {
     "slide_type": "subslide"
    }
   },
   "outputs": [
    {
     "data": {
      "application/vnd.jupyter.widget-view+json": {
       "model_id": "5f5958d24c8e402e929b8ac535628910",
       "version_major": 2,
       "version_minor": 0
      },
      "text/plain": [
       "VBox(children=(Label(value='¿El número adecuado de bines es?'), Label(value=''), Dropdown(description='Selecci…"
      ]
     },
     "metadata": {},
     "output_type": "display_data"
    },
    {
     "data": {
      "application/vnd.jupyter.widget-view+json": {
       "model_id": "3ff7232e49a743be8a89b14bc6023c3c",
       "version_major": 2,
       "version_minor": 0
      },
      "text/plain": [
       "Output()"
      ]
     },
     "metadata": {},
     "output_type": "display_data"
    }
   ],
   "source": [
    "l = widgets.Label(\"¿El número adecuado de bines es?\")\n",
    "\n",
    "n = widgets.Dropdown(options=[1, 2, 3, 4, 5, 6, 7, 8, 9, 10], value=1,\n",
    "    description='Seleccione un número de bines',\n",
    "    layout=widgets.Layout(width='70%'))\n",
    "n.style = {'description_width': '300px'}\n",
    "\n",
    "a = widgets.Label(\"\")\n",
    "\n",
    "ui = widgets.VBox(children=[l, a, n])\n",
    "\n",
    "def answer(n):\n",
    "    if n==4:\n",
    "        print(\"Correcto!\")\n",
    "    elif n in [3, 6]:\n",
    "        print(\"Podría ser!\")\n",
    "    else:\n",
    "        print(\"Incorrecto!\")\n",
    "\n",
    "out = out = widgets.interactive_output(answer, {'n': n})\n",
    "display(ui, out)"
   ]
  },
  {
   "cell_type": "markdown",
   "metadata": {
    "slideshow": {
     "slide_type": "slide"
    }
   },
   "source": [
    "### Explorando la correlación\n",
    "\n",
    "- A continuación se muestran ejemplos de diagramas de dispersión de varios conjuntos de datos con varios coeficientes de correlación.\n",
    "- Vaya a la diapositiva abajo y seleccione el coeficiente de correlación entre -1 y 1. \n",
    "- También puede cambiar el tamaño de la muestra y observar la correlación de acuerdo al número de puntos observados. "
   ]
  },
  {
   "cell_type": "code",
   "execution_count": 4,
   "metadata": {
    "slideshow": {
     "slide_type": "subslide"
    }
   },
   "outputs": [
    {
     "data": {
      "application/vnd.jupyter.widget-view+json": {
       "model_id": "08deb253916a481fba86ed0cf8696afc",
       "version_major": 2,
       "version_minor": 0
      },
      "text/plain": [
       "VBox(children=(SelectionSlider(description='Correlación', index=10, layout=Layout(width='70%'), options=(-1.0,…"
      ]
     },
     "metadata": {},
     "output_type": "display_data"
    },
    {
     "data": {
      "application/vnd.jupyter.widget-view+json": {
       "model_id": "0c2b58458b3e40b3adfa8782ddd199c2",
       "version_major": 2,
       "version_minor": 0
      },
      "text/plain": [
       "Output()"
      ]
     },
     "metadata": {},
     "output_type": "display_data"
    }
   ],
   "source": [
    "mean = [0, 0]\n",
    "\n",
    "def cov_plot(c, n, l):\n",
    "    np.random.seed(123456)\n",
    "    cov = [[1, c], [c, 1]]\n",
    "    x, y = np.random.multivariate_normal(mean, cov, n).T\n",
    "    data = pd.DataFrame({'x': x, 'y': y})\n",
    "    s = sns.lmplot(data=data, x='x', y='y', height=7, aspect=1, fit_reg=l,\n",
    "                   scatter_kws={\"s\": 20, 'alpha': 0.5, 'color': \"seagreen\"},\n",
    "                   line_kws={'color': 'orange'}\n",
    "                  )\n",
    "\n",
    "c = widgets.SelectionSlider(value=0, options=[-1.0, -0.9, -0.8, -0.7, -0.6, \n",
    "                                              -0.5, -0.4, -0.3, -0.2, -0.1] + \n",
    "                            [0.0, 0.1, 0.2, 0.3, 0.4, 0.5, 0.6, 0.7, 0.8, 0.9, 1.0],\n",
    "                            description='Correlación',\n",
    "                            layout=widgets.Layout(width='70%'))\n",
    "c.style = {'description_width': '300px'}\n",
    "\n",
    "n = widgets.SelectionSlider(value=100, \n",
    "                            options=list(range(10,101,10))+[200, 500, 1000, 5000],\n",
    "                            description='Tamaño de muestra',\n",
    "                            layout=widgets.Layout(width='70%'))\n",
    "n.style = {'description_width': '300px'}\n",
    "\n",
    "l = widgets.Checkbox(\n",
    "    value=True,\n",
    "    description='Regresión lineal',\n",
    "    layout=widgets.Layout(width='70%'))\n",
    "l.style = {'description_width': '300px'}\n",
    "\n",
    "ui = widgets.VBox(children=[c, n, l])\n",
    "\n",
    "out = widgets.interactive_output(cov_plot, {'c':c, 'n': n, 'l': l})\n",
    "\n",
    "display(ui, out)"
   ]
  },
  {
   "cell_type": "markdown",
   "metadata": {
    "slideshow": {
     "slide_type": "slide"
    }
   },
   "source": [
    "### Función de masa y función acumulada de probabilidad\n",
    "\n",
    "- Para una variable aleatoria discreta $X$ con valores posibles $x_1, x_2, x_3, \\cdots , x_n$, una función de masa de probabilidad $f(x_i)$ es una función que cumple las siguientes condiciones:\n",
    "    \n",
    "  1. $f(x_i) \\geq 0$\n",
    "  2. $\\sum^n_{i=1} f(x_i) = 1$\n",
    "  3. $f(x_i) = P(X = x_i)$\n",
    "  \n",
    "- Para una variabel aleatoria discreta $X$, la Función de Distribución Acumulada $F(x)$ satisface las siguientes propiedades:\n",
    "  1. $F(x)=P(X \\leq x) = \\sum_{x_i \\leq x} f(x_i)$\n",
    "  2. $0 \\leq F(x) \\leq 1$\n",
    "  3. Si $x \\leq y$, entonces $F(x) \\leq F(y)$"
   ]
  },
  {
   "cell_type": "code",
   "execution_count": 5,
   "metadata": {
    "slideshow": {
     "slide_type": "subslide"
    }
   },
   "outputs": [
    {
     "data": {
      "application/vnd.jupyter.widget-view+json": {
       "model_id": "8884ff3c8e59468eb83817a3687a12ff",
       "version_major": 2,
       "version_minor": 0
      },
      "text/plain": [
       "VBox(children=(HTML(value='<p>A partir de la tabla con la función de masa de probabilidad p(x) y la función de…"
      ]
     },
     "metadata": {},
     "output_type": "display_data"
    },
    {
     "data": {
      "application/vnd.jupyter.widget-view+json": {
       "model_id": "39b2c7de3c084a5ba5a0dfb985cd51af",
       "version_major": 2,
       "version_minor": 0
      },
      "text/plain": [
       "Output()"
      ]
     },
     "metadata": {},
     "output_type": "display_data"
    }
   ],
   "source": [
    "def pmf_cdf(a, b, c):\n",
    "    d = pd.DataFrame({\"x\": [-1, 0, 1, 4], \"p(x)\": ['0.2', '0.5', a, '0.1'],\n",
    "                      \"F(x)\": [b, '0.7', c, '1.0'],\n",
    "                     })\n",
    "    \n",
    "    d = d.reset_index()\n",
    "    d = d.drop(['index'],axis=1)\n",
    "    \n",
    "    d = d.style.set_table_styles([{'selector': 'th', 'props': \n",
    "                                   [('font-size', '20pt')]}]).set_properties(**{'font-size': '20pt'})\n",
    "        \n",
    "    true_values = {\"a\": \"0.2\", \"b\": \"0.2\", \"c\": \"0.9\"}\n",
    "    \n",
    "    correct_values = {v: eval(v).value==true_values[v] for v in true_values}\n",
    "    \n",
    "    #print(', '.join([\"(\"+tv+\") Correcta\" if correct_values[tv] \n",
    "    #                                          else \"(\"+tv+\") Incorrecta\" \n",
    "    #           for i, tv in enumerate(correct_values)])+\".\")\n",
    "    \n",
    "    dh = display_html(f\"<center>{d.hide_index().render()}</center>\", raw=True)\n",
    "    \n",
    "    check(a, b, c)\n",
    "\n",
    "l1 = widgets.Label(r\"A partir de la tabla con la función de masa de probabilidad $p(x)$\")\n",
    "l2 = widgets.Label(r\" y la función de distribución acumulada $F(x)$, \") \n",
    "l3 = widgets.Label(r\"de los valores de $a$, $b$ y $c.$\")\n",
    "\n",
    "texto = \"A partir de la tabla con la función de masa de probabilidad p(x) y la función de distribución acumulada F(x), de los valores de a, b y c.\"\n",
    "\n",
    "l = widgets.HTML(value= '<p>'+ texto +' </p>')\n",
    "\n",
    "lf = widgets.Label(\"\")\n",
    "\n",
    "a = widgets.Dropdown(options=['a', '0.0', '0.1', '0.2', '0.5', '0.8', '0.9', '1.0'], value='a',\n",
    "    description='Valor de a',\n",
    "    layout=widgets.Layout(width='70%'))\n",
    "a.style = {'description_width': '300px'}\n",
    "\n",
    "b = widgets.Dropdown(options=['b', '0.0', '0.1', '0.2', '0.5', '0.8', '0.9', '1.0'], value='b',\n",
    "    description='Valor de b',\n",
    "    layout=widgets.Layout(width='70%'))\n",
    "b.style = {'description_width': '300px'}\n",
    "\n",
    "c = widgets.Dropdown(options=['c', '0.0', '0.1', '0.2', '0.5', '0.8', '0.9', '1.0'], value='c',\n",
    "    description='Valor de c',\n",
    "    layout=widgets.Layout(width='70%'))\n",
    "c.style = {'description_width': '300px'}\n",
    "\n",
    "button = widgets.Button(description=\"Comprobar\")\n",
    "\n",
    "def check(a, b, c):\n",
    "    texto = \"\"\n",
    "    if a=='0.2': texto += \"(a) correcta, \"\n",
    "    else: texto += \"(a) incorrecta, \"\n",
    "    if b=='0.2': texto += \"(b) correcta, \"\n",
    "    else: texto += \"(b) incorrecta, \"\n",
    "    if c=='0.9': texto += \"(c) correcta. \"\n",
    "    else: texto += \"(c) incorrecta. \"\n",
    "    #texto += ' '.join([a, b, c])\n",
    "    print(texto)\n",
    "\n",
    "ui = widgets.VBox(children=[l, a, b, c])\n",
    "out = widgets.interactive_output(pmf_cdf, {'a': a, 'b': b, 'c': c})\n",
    "\n",
    "display(ui, out)"
   ]
  },
  {
   "cell_type": "markdown",
   "metadata": {
    "slideshow": {
     "slide_type": "slide"
    }
   },
   "source": [
    "### Lanzando monedas (distribución binomial)\n",
    "\n",
    "- Para la siguiente distribución binomial, elija el número de monedas $n$ que desea lanzar\n",
    "$X\\sim binom(p=0.5, n)$. \n",
    "- El resultado cuenta el número de caras obtenidas al lanzar $n$ monedas. \n",
    "\n",
    "  - Por ejemplo al lanzar 2 monedas pueden obtenerse $x \\in \\{0, 1, 2\\}$ caras. \n",
    "\n",
    "- Elija el número de lanzamientos que desea realizar, a medida que este número sea más grande, más cercano será el valor observado en la muestra al valor teórico (PMF). "
   ]
  },
  {
   "cell_type": "code",
   "execution_count": 6,
   "metadata": {
    "slideshow": {
     "slide_type": "subslide"
    }
   },
   "outputs": [
    {
     "data": {
      "application/vnd.jupyter.widget-view+json": {
       "model_id": "69ca16123cd5485eb02ff74acbf5bc75",
       "version_major": 2,
       "version_minor": 0
      },
      "text/plain": [
       "VBox(children=(SelectionSlider(description='Número de monedas a lanzar', layout=Layout(width='70%'), options=(…"
      ]
     },
     "metadata": {},
     "output_type": "display_data"
    },
    {
     "data": {
      "application/vnd.jupyter.widget-view+json": {
       "model_id": "6cb74d159f6c4524a9f68c82a8c84afa",
       "version_major": 2,
       "version_minor": 0
      },
      "text/plain": [
       "Output()"
      ]
     },
     "metadata": {},
     "output_type": "display_data"
    }
   ],
   "source": [
    "def coin(n, p, s):\n",
    "    X = binom.rvs(n, p, size=s)\n",
    "    x, freq = np.unique(X, return_counts=True)\n",
    "    plt.figure(figsize=(8,6))\n",
    "    plt.bar(x, freq/s, label=\"Simulación\")\n",
    "    plt.xlabel(\"Número de caras\")\n",
    "    if n == 100:\n",
    "        plt.xticks(range(x.min(), x.max()+1, 2))\n",
    "    else:\n",
    "        plt.xticks(x)\n",
    "    plt.plot(x, binom.pmf(x, n, p), ':or', label=\"PMF\")\n",
    "    plt.legend()\n",
    "\n",
    "n = widgets.SelectionSlider(options=list(range(1,11))+[10, 50, 100], value=1,\n",
    "    description='Número de monedas a lanzar',\n",
    "    layout=widgets.Layout(width='70%'))\n",
    "n.style = {'description_width': '300px'}\n",
    "\n",
    "p = widgets.SelectionSlider(value=0.5, options=[0.1, 0.2, 0.3, 0.4, 0.5, 0.6, 0.7, 0.8, 0.9],\n",
    "                            description='Probabilidad (cara)',\n",
    "                            layout=widgets.Layout(width='70%'))\n",
    "p.style = {'description_width': '300px'}\n",
    "\n",
    "s = widgets.Dropdown(options=[10, 100, 1000, 10000, 100000], value=100,\n",
    "    description='Número de lanzamientos',\n",
    "    layout=widgets.Layout(width='70%'))\n",
    "s.style = {'description_width': '300px'}\n",
    "\n",
    "ui = widgets.VBox(children=[n, p, s])\n",
    "\n",
    "out = widgets.interactive_output(coin, {'n': n, 's': s, 'p': p})\n",
    "\n",
    "display(ui, out)"
   ]
  },
  {
   "cell_type": "markdown",
   "metadata": {
    "slideshow": {
     "slide_type": "slide"
    }
   },
   "source": [
    "### Ley de los grandes números\n",
    "\n",
    "- Supongamos que tenemos una v.a. i.i.d. $X_1 , X_2 , X_3 , \\dots$\n",
    "con media finita $\\mu$ y varianza finita $\\sigma^2$.\n",
    "Para todos los enteros positivos $n$, sea\n",
    "$$\n",
    "\\bar{X}_n=\\frac{X_1 + \\cdots + X_n}{n}\n",
    "$$\n",
    "sea la media muestral de $X_1$ a $X_n$.\n",
    "La media muestral es en sí misma una v.a., con media\n",
    "$\\mu$ y varianza $\\sigma^2/n$:\n",
    "$$\n",
    "E(\\bar{X}_n)=\\frac{1}{n}E(X_1+\\cdots+X_n)=\n",
    "\\frac{1}{n}(E(X_1)+\\cdots+E(X_n))=\\mu,\n",
    "$$\n",
    "$$\n",
    "Var(\\bar{X}_n)=\\frac{1}{n^2}Var(X_1+\\cdots+X_n)=\n",
    "\\frac{1}{n^2}(Var(X_1)+\\cdots+Var(X_n))=\\frac{\\sigma^2}{n} \\rightarrow 0.\n",
    "$$\n",
    "\n",
    "- La ley de los grandes números dice que a medida que el tamaño de la muestra $n$ crece, el valor esperado de la media muestral $E[\\bar{X}]_n$ converge a la verdadera media $\\mu$, y la varianza $Var[\\bar{X}]_n$ converge a cero."
   ]
  },
  {
   "cell_type": "code",
   "execution_count": 7,
   "metadata": {
    "slideshow": {
     "slide_type": "subslide"
    }
   },
   "outputs": [
    {
     "data": {
      "application/vnd.jupyter.widget-view+json": {
       "model_id": "6d6fb0403323449c866eea08dd975f29",
       "version_major": 2,
       "version_minor": 0
      },
      "text/plain": [
       "VBox(children=(SelectionSlider(description='Tamaño de muestra', layout=Layout(width='70%'), options=(1, 2, 5, …"
      ]
     },
     "metadata": {},
     "output_type": "display_data"
    },
    {
     "data": {
      "application/vnd.jupyter.widget-view+json": {
       "model_id": "28510a501c45481894cfd61938fe6cf5",
       "version_major": 2,
       "version_minor": 0
      },
      "text/plain": [
       "Output()"
      ]
     },
     "metadata": {},
     "output_type": "display_data"
    }
   ],
   "source": [
    "def lln(n, dist, a):\n",
    "    simulations = 1000\n",
    "    if dist==\"Uniforme\":\n",
    "        X_bar = np.random.random(size=(simulations,n)).mean(axis=1)\n",
    "        mu, sigma2 = 1/2, 1/12  # mu, sigma of the population distribution\n",
    "        ll, ul = 0, 1\n",
    "    if dist==\"Exponencial\":\n",
    "        X_bar = expon.rvs(scale=2, size=(simulations,n)).mean(axis=1)\n",
    "        mu, sigma2 = 2, 4  # mu, sigma of the population distribution\n",
    "        ll, ul = 0, 10\n",
    "    fig, ax = plt.subplots(2, 1, figsize=(7,7), gridspec_kw={'height_ratios': [3, 1]})\n",
    "    fig.tight_layout()\n",
    "    ax[0].plot(X_bar, range(simulations), '.', label=r\"$\\bar{X}$\", alpha=a)\n",
    "    ax[0].vlines(mu, 0, simulations, linewidth=2, color=\"red\", label=r\"$\\mu$\")\n",
    "    ax[0].set_xlim(ll, ul)\n",
    "    ax[0].legend(loc=1)\n",
    "\n",
    "    ax[1].hist(X_bar, density=True)\n",
    "    ax[1].set_xlim(ll, ul)\n",
    "    ax[1].set_xlabel(\"X\")\n",
    "    \n",
    "n = widgets.SelectionSlider(options=[1, 2, 5, 10, 30, 100, 1000, 10000, 50000], value=1,\n",
    "    description='Tamaño de muestra',\n",
    "    layout=widgets.Layout(width='70%'))\n",
    "n.style = {'description_width': '300px'}\n",
    "\n",
    "dist = widgets.Dropdown(options=[\"Uniforme\", \"Exponencial\"], value=\"Uniforme\",\n",
    "                       description='Distribución',\n",
    "    layout=widgets.Layout(width='70%'))\n",
    "dist.style = {'description_width': '300px'}\n",
    "\n",
    "a = widgets.SelectionSlider(options=[0.2, 0.5, 0.8, 1], value=0.2,\n",
    "    description='Transparencia',\n",
    "    layout=widgets.Layout(width='70%'))\n",
    "a.style = {'description_width': '300px'}\n",
    "\n",
    "ui = widgets.VBox(children=[n, dist, a])\n",
    "\n",
    "out = widgets.interactive_output(lln, {'n': n, 'dist': dist, 'a': a});\n",
    "\n",
    "display(ui, out);"
   ]
  },
  {
   "cell_type": "markdown",
   "metadata": {
    "slideshow": {
     "slide_type": "slide"
    }
   },
   "source": [
    "### Teorema del límte central\n",
    "\n",
    "- Elija el tamaño de muestra $n$ para el cual quiere calcular la media muestral $\\bar{X}$. \n",
    "  - Este proceso se repite muchas veces y se grafica un histograma de la media muestral.\n",
    "- Se grafica la PDF de la distribución normal $\\bar{X} \\sim N(\\mu, \\sigma^2/\\sqrt{n})$.\n",
    "  - El teorema del límite central nos dice que $\\bar{X}$ sigue dicha distribución para un tamaño lo suficientemente grande de $n$. \n",
    "- El muestreo proviene de 2 distribuciones:\n",
    "  - Uniforme $X\\sim U(a=0, b=1)$ con: $\\mu=1/2,\\ \\sigma^2 = 1/12$.\n",
    "  - Exponencial $X\\sim Expon(\\lambda=2)$ con: $\\mu=2,\\ \\sigma^2 = 4$."
   ]
  },
  {
   "cell_type": "code",
   "execution_count": 8,
   "metadata": {
    "slideshow": {
     "slide_type": "subslide"
    }
   },
   "outputs": [
    {
     "data": {
      "application/vnd.jupyter.widget-view+json": {
       "model_id": "d6507dcc3aa3482e98a9d70a38fa7c00",
       "version_major": 2,
       "version_minor": 0
      },
      "text/plain": [
       "VBox(children=(Dropdown(description='Tamaño de muestra', layout=Layout(width='70%'), options=(1, 2, 5, 10, 30,…"
      ]
     },
     "metadata": {},
     "output_type": "display_data"
    },
    {
     "data": {
      "application/vnd.jupyter.widget-view+json": {
       "model_id": "b54a923733bc4dec937d4c1528415bd8",
       "version_major": 2,
       "version_minor": 0
      },
      "text/plain": [
       "Output()"
      ]
     },
     "metadata": {},
     "output_type": "display_data"
    }
   ],
   "source": [
    "def clt(n, dist):\n",
    "    simulations = 10000\n",
    "    if dist==\"Uniforme\":\n",
    "        X_bar = np.random.random(size=(simulations,n)).mean(axis=1)\n",
    "        mu, sigma2 = 1/2, 1/12  # mu, sigma of the population distribution\n",
    "    if dist==\"Exponencial\":\n",
    "        X_bar = expon.rvs(scale=2, size=(simulations,n)).mean(axis=1)\n",
    "        mu, sigma2 = 2, 4  # mu, sigma of the population distribution\n",
    "    plt.figure(figsize=(8,6))\n",
    "    plt.hist(X_bar, bins=40, density=True, edgecolor=\"seagreen\", label=r\"$\\bar{X}$\")\n",
    "    xl, xu = X_bar.min(), X_bar.max()\n",
    "    x = np.linspace(xl, xu, 500)\n",
    "    plt.plot(x, norm.pdf(x, loc=mu, scale=np.sqrt(sigma2/n)), \n",
    "             linewidth=2, color=\"crimson\", label=r\"$N(\\mu, \\sigma^2/\\sqrt{n})$\")\n",
    "    plt.legend()\n",
    "    \n",
    "\n",
    "n = widgets.Dropdown(options=[1, 2, 5, 10, 30, 100], value=1,\n",
    "    description='Tamaño de muestra',\n",
    "    layout=widgets.Layout(width='70%'))\n",
    "n.style = {'description_width': '300px'}\n",
    "\n",
    "dist = widgets.Dropdown(options=[\"Uniforme\", \"Exponencial\"], value=\"Uniforme\",\n",
    "                       description='Distribución',\n",
    "    layout=widgets.Layout(width='70%'))\n",
    "dist.style = {'description_width': '300px'}\n",
    "\n",
    "ui = widgets.VBox(children=[n, dist])\n",
    "\n",
    "out = widgets.interactive_output(clt, {'n': n, 'dist': dist})\n",
    "\n",
    "display(ui, out)"
   ]
  },
  {
   "cell_type": "markdown",
   "metadata": {
    "slideshow": {
     "slide_type": "slide"
    }
   },
   "source": [
    "### Exactitud y precisión de un estimador $\\theta_j$\n",
    "\n",
    "\n",
    "<img src=\"https://raw.githubusercontent.com/marsgr6/r-scripts/master/imgs/Illustration-of-the-precision-and-the-accuracy-of-an-estimator.png\" alt=\"drawing\" width=\"400\"/>"
   ]
  },
  {
   "cell_type": "code",
   "execution_count": 9,
   "metadata": {
    "slideshow": {
     "slide_type": "subslide"
    }
   },
   "outputs": [
    {
     "data": {
      "application/vnd.jupyter.widget-view+json": {
       "model_id": "ca1fc555aff14e5ba1cbbf8a9696372f",
       "version_major": 2,
       "version_minor": 0
      },
      "text/plain": [
       "VBox(children=(Dropdown(description='Tamaño de muestra', layout=Layout(width='70%'), options=(10, 20, 30, 50, …"
      ]
     },
     "metadata": {},
     "output_type": "display_data"
    },
    {
     "data": {
      "application/vnd.jupyter.widget-view+json": {
       "model_id": "4d50b653f840494585d038986871b307",
       "version_major": 2,
       "version_minor": 0
      },
      "text/plain": [
       "Output()"
      ]
     },
     "metadata": {},
     "output_type": "display_data"
    }
   ],
   "source": [
    "def throw_darts(n, e, p):\n",
    "    smx, smy = [np.random.choice([-1, 1], size=2)][0]\n",
    "    exactitud = {'Alta': (0, 0), 'Media': (0.5, 0.5), 'Baja': (2, 2)}\n",
    "    precision = {'Alta': (0.1, 0.1), 'Media': (0.25, 0.25), 'Baja': (1, 1)}\n",
    "    mx, my = exactitud[e]\n",
    "    sx, sy = precision[p]\n",
    "    mx *= smx; my *= smy\n",
    "    dart_x = norm.rvs(mx, sx, size=n)\n",
    "    dart_y = norm.rvs(my, sy, size=n)\n",
    "\n",
    "    plt.figure(figsize=(8,8))\n",
    "\n",
    "    plt.plot(0, 0, 'ok', label=\"Target\")\n",
    "    plt.plot(dart_x, dart_y, 'x')\n",
    "\n",
    "    circle1 = plt.Circle((0,0),1,color='b', fill=False)\n",
    "    plt.gcf().gca().add_artist(circle1)\n",
    "    circle1 = plt.Circle((0,0),2,color='g', fill=False)\n",
    "    plt.gcf().gca().add_artist(circle1)\n",
    "    circle1 = plt.Circle((0,0),3,color='r', fill=False)\n",
    "    plt.gcf().gca().add_artist(circle1)\n",
    "\n",
    "    plt.xlim(-5, 5)\n",
    "    plt.ylim(-5, 5)\n",
    "    plt.gca().set_aspect('equal', adjustable='box')\n",
    "    plt.legend()\n",
    "    \n",
    "\n",
    "n = widgets.Dropdown(options=[10, 20, 30, 50, 100], value=10,\n",
    "    description='Tamaño de muestra',\n",
    "    layout=widgets.Layout(width='70%'))\n",
    "n.style = {'description_width': '300px'}\n",
    "\n",
    "e = widgets.Dropdown(options=[\"Alta\", \"Media\", \"Baja\"], value=\"Alta\",\n",
    "                       description='Exactitud',\n",
    "    layout=widgets.Layout(width='70%'))\n",
    "e.style = {'description_width': '300px'}\n",
    "\n",
    "p = widgets.Dropdown(options=[\"Alta\", \"Media\", \"Baja\"], value=\"Alta\",\n",
    "                       description='Precisión',\n",
    "    layout=widgets.Layout(width='70%'))\n",
    "p.style = {'description_width': '300px'}\n",
    "\n",
    "ui = widgets.VBox(children=[n, e, p])\n",
    "\n",
    "out = widgets.interactive_output(throw_darts, {'n': n, 'e': e, 'p': p})\n",
    "\n",
    "display(ui, out)"
   ]
  },
  {
   "cell_type": "markdown",
   "metadata": {
    "slideshow": {
     "slide_type": "subslide"
    }
   },
   "source": [
    "### Exactitud y precisión\n",
    "\n",
    "- Experimenta por tu cuenta"
   ]
  },
  {
   "cell_type": "code",
   "execution_count": 10,
   "metadata": {
    "slideshow": {
     "slide_type": "subslide"
    }
   },
   "outputs": [
    {
     "data": {
      "application/vnd.jupyter.widget-view+json": {
       "model_id": "08f335595d584b79b36597d5c9cbac6d",
       "version_major": 2,
       "version_minor": 0
      },
      "text/plain": [
       "VBox(children=(SelectionSlider(description='Media X', index=3, layout=Layout(width='70%'), options=(-2, -1, -0…"
      ]
     },
     "metadata": {},
     "output_type": "display_data"
    },
    {
     "data": {
      "application/vnd.jupyter.widget-view+json": {
       "model_id": "1c66f0a58f6146448ad82db66ba02aaa",
       "version_major": 2,
       "version_minor": 0
      },
      "text/plain": [
       "Output()"
      ]
     },
     "metadata": {},
     "output_type": "display_data"
    }
   ],
   "source": [
    "def throw_darts(mx, my, sx, sy, n=20):\n",
    "    dart_x = norm.rvs(mx, sx, size=n)\n",
    "    dart_y = norm.rvs(my, sy, size=n)\n",
    "\n",
    "    plt.figure(figsize=(8,8))\n",
    "\n",
    "    plt.plot(0, 0, 'ok', label=\"Target\")\n",
    "    plt.plot(dart_x, dart_y, 'x')\n",
    "\n",
    "    circle1 = plt.Circle((0,0),1,color='b', fill=False)\n",
    "    plt.gcf().gca().add_artist(circle1)\n",
    "    circle1 = plt.Circle((0,0),2,color='g', fill=False)\n",
    "    plt.gcf().gca().add_artist(circle1)\n",
    "    circle1 = plt.Circle((0,0),3,color='r', fill=False)\n",
    "    plt.gcf().gca().add_artist(circle1)\n",
    "\n",
    "    plt.xlim(-5, 5)\n",
    "    plt.ylim(-5, 5)\n",
    "    plt.gca().set_aspect('equal', adjustable='box')\n",
    "    plt.legend()\n",
    "    \n",
    "\n",
    "mx = widgets.SelectionSlider(value=0, options=[-2, -1, -0.5, 0, 0.5, 1, 2],\n",
    "                            description='Media X',\n",
    "                            layout=widgets.Layout(width='70%'))\n",
    "mx.style = {'description_width': '300px'}\n",
    "\n",
    "my = widgets.SelectionSlider(value=0, options=[-2, -1, -0.5, 0, 0.5, 1, 2],\n",
    "                            description='Media Y',\n",
    "                            layout=widgets.Layout(width='70%'))\n",
    "my.style = {'description_width': '300px'}\n",
    "\n",
    "sx = widgets.SelectionSlider(value=0.1, options=[0, 0.1, 0.2, 0.3, 0.4, 0.5, 0.75, 1.0],\n",
    "                            description='Desviación X',\n",
    "                            layout=widgets.Layout(width='70%'))\n",
    "sx.style = {'description_width': '300px'}\n",
    "\n",
    "sy = widgets.SelectionSlider(value=0.1, options=[0, 0.1, 0.2, 0.3, 0.4, 0.5, 0.75, 1.0],\n",
    "                            description='Desviación Y',\n",
    "                            layout=widgets.Layout(width='70%'))\n",
    "sy.style = {'description_width': '300px'}\n",
    "\n",
    "ui = widgets.VBox(children=[mx, my, sx, sy])\n",
    "\n",
    "out = widgets.interactive_output(throw_darts, {'mx': mx, 'my': my, 'sx': sx, 'sy': sy})\n",
    "\n",
    "display(ui, out)"
   ]
  },
  {
   "cell_type": "markdown",
   "metadata": {
    "slideshow": {
     "slide_type": "slide"
    }
   },
   "source": [
    "### Intervalo t de confianza para la media\n",
    "\n",
    "- Vamos a realizar un muestreo de una distribución normal estándar $X\\sim N(0,1)$.\n",
    "- Construiremos un intervalo t para la media. \n",
    "- Vea como cambia el ancho del intervalo de acuerdo al nivel de confianza y al tamaño de muestra. "
   ]
  },
  {
   "cell_type": "code",
   "execution_count": 24,
   "metadata": {
    "slideshow": {
     "slide_type": "subslide"
    }
   },
   "outputs": [
    {
     "data": {
      "application/vnd.jupyter.widget-view+json": {
       "model_id": "ac85d78505a64fc88e12ed0149b99b39",
       "version_major": 2,
       "version_minor": 0
      },
      "text/plain": [
       "VBox(children=(SelectionSlider(description='Nivel de confianza', index=1, layout=Layout(width='70%'), options=…"
      ]
     },
     "metadata": {},
     "output_type": "display_data"
    },
    {
     "data": {
      "application/vnd.jupyter.widget-view+json": {
       "model_id": "3a4d32c46b694bb0b25929513f1533ff",
       "version_major": 2,
       "version_minor": 0
      },
      "text/plain": [
       "Output()"
      ]
     },
     "metadata": {},
     "output_type": "display_data"
    }
   ],
   "source": [
    "def interval(nc, n, size=100):\n",
    "    alpha = 1 - nc\n",
    "    df = n - 1  # grados de libertad para t\n",
    "\n",
    "    # Estamos muestreando la distribución uniforme estándar\n",
    "    mu = 0  # mu: media poblacional\n",
    "\n",
    "    U = norm.rvs(size=(size,n))  # uniform rvs\n",
    "    Um = np.mean(U, axis=1)  # media muestral \n",
    "    Us = np.std(U, ddof=1, axis=1)  # varianza muestral\n",
    "    se = Us / np.sqrt(n)  # error estándar\n",
    "\n",
    "    ICL, ICU = t.interval(1-alpha, df, loc=Um, scale=se)  # Intervalo de confianza \n",
    "\n",
    "    CI = np.vstack([ICL, ICU]).transpose()  # unimos ICL, ICU en 2 columnas\n",
    "    # comprobamos que mu está en el intervalo\n",
    "    # para esto debe cumplirse que limite inferior < mu y límite superior mayor que mu\n",
    "    # np.logical_and(CI[:,0] < mu, CI[:,1] > mu)\n",
    "    # ubicamos los índices donde se cumple la condición anterior \n",
    "    # np.where(condicion)[]\n",
    "    cont = np.where(np.logical_and(CI[:,0] < mu, CI[:,1] > mu))[0]\n",
    "\n",
    "    plt.figure(figsize=(8,8))\n",
    "\n",
    "    # Graficamos cada intervalo como una línea horizontal\n",
    "    # Si el intervalo contiene la media poblacinal mu es negro\n",
    "    # rojo en caso contrario\n",
    "    for pos, limits in enumerate(CI):\n",
    "        if pos in cont:  # está dentro del intervalo\n",
    "            col = 'k'  # color negro\n",
    "        else:  # está fuera del intervalo\n",
    "            col = 'r'  # color rojo\n",
    "        plt.hlines(pos+1, limits[0], limits[1], colors=col)  # línea horizontal\n",
    "        plt.plot(Um[pos], pos+1, '.', c=col)\n",
    "\n",
    "    plt.vlines(mu, 0, size+1, colors='b', label=r\"$\\mu$\")\n",
    "    plt.legend()\n",
    "    plt.xlim(-1.5, 1.5)\n",
    "\n",
    "    # Contemos cuantas veces el intervalo contiene la media poblacional\n",
    "    # Si el intervalo (lineal horizontal) contiene la media, este se intersecta con la línea vertical azul\n",
    "    l.value = \"La media poblacional está en el intervalo \"+str(np.shape(cont)[0]/size*100)+\"% de las veces.\"\n",
    "    \n",
    "    \n",
    "nc = widgets.SelectionSlider(value=0.9, options=[0.68, 0.9, 0.95, 0.99],\n",
    "                            description='Nivel de confianza',\n",
    "                            layout=widgets.Layout(width='70%'))\n",
    "nc.style = {'description_width': '300px'}\n",
    "\n",
    "n = widgets.Dropdown(options=[10, 30, 100, 500, 1000], value=30,\n",
    "    description='Tamaño de muestra',\n",
    "    layout=widgets.Layout(width='70%'))\n",
    "n.style = {'description_width': '300px'}\n",
    "\n",
    "l = widgets.Label(\" \")\n",
    "\n",
    "ui = widgets.VBox(children=[nc, n, l])\n",
    "\n",
    "out = widgets.interactive_output(interval, {'nc': nc, 'n': n})\n",
    "\n",
    "display(ui, out)"
   ]
  },
  {
   "cell_type": "markdown",
   "metadata": {
    "slideshow": {
     "slide_type": "slide"
    }
   },
   "source": [
    "### Bono: Análisis exploratorio\n",
    "\n",
    "- Para realizar un análisis exploratorio de datos (EDA), así como para visualizar efectivamente un conjunto de datos es necesario tener interactividad. \n",
    "  - La interactividad permite flexibilidad al usuario para elegir las variables a explorar. \n",
    "\n",
    "- Para la interactividad usaremos **ipywidgets** junto con **seaborn** para visualizar los datos. \n",
    "\n",
    "  - Vea el siguiente [enlace](https://ppeng08.medium.com/interactive-visualization-for-exploratory-data-analysis-in-jupyter-notebook-adc826e1e76a)."
   ]
  },
  {
   "cell_type": "code",
   "execution_count": 12,
   "metadata": {
    "slideshow": {
     "slide_type": "subslide"
    }
   },
   "outputs": [
    {
     "data": {
      "application/vnd.jupyter.widget-view+json": {
       "model_id": "a635ee8f02b646289d77b7712aa1a3cb",
       "version_major": 2,
       "version_minor": 0
      },
      "text/plain": [
       "interactive(children=(Dropdown(description='col', options=('sex', 'smoker', 'day', 'time'), value='sex'), Outp…"
      ]
     },
     "metadata": {},
     "output_type": "display_data"
    }
   ],
   "source": [
    "tips = sns.load_dataset(\"tips\")\n",
    "@ipywidgets.interact\n",
    "def plot(col=tips.select_dtypes(include = 'category').columns):          # categorical univariate plot\n",
    "    plt.figure(figsize=(8,6))\n",
    "    sns.countplot(y=col, data=tips);                                     # y indicates horizontal plot"
   ]
  },
  {
   "cell_type": "code",
   "execution_count": 13,
   "metadata": {
    "slideshow": {
     "slide_type": "subslide"
    }
   },
   "outputs": [
    {
     "data": {
      "application/vnd.jupyter.widget-view+json": {
       "model_id": "4b3ceab42f4e49308fb668363a4ec6e4",
       "version_major": 2,
       "version_minor": 0
      },
      "text/plain": [
       "interactive(children=(Dropdown(description='col_x', options=('total_bill', 'tip'), value='total_bill'), Dropdo…"
      ]
     },
     "metadata": {},
     "output_type": "display_data"
    }
   ],
   "source": [
    "@ipywidgets.interact\n",
    "def plot(col_x=tips.select_dtypes(include = 'float').columns, \n",
    "         hue=tips.select_dtypes(include = 'category').columns,\n",
    "         element=[\"bars\", \"step\", \"poly\"]\n",
    "        ):\n",
    "    sns.displot(data=tips, x=col_x, hue=hue, element=element);"
   ]
  },
  {
   "cell_type": "code",
   "execution_count": 14,
   "metadata": {
    "slideshow": {
     "slide_type": "subslide"
    }
   },
   "outputs": [
    {
     "data": {
      "application/vnd.jupyter.widget-view+json": {
       "model_id": "6ce47c758e9b44128cbbf992aa7780f0",
       "version_major": 2,
       "version_minor": 0
      },
      "text/plain": [
       "interactive(children=(Dropdown(description='var_x', options=('sex', 'smoker', 'day', 'time'), value='sex'), Dr…"
      ]
     },
     "metadata": {},
     "output_type": "display_data"
    }
   ],
   "source": [
    "@ipywidgets.interact\n",
    "def plot(var_x=tips.select_dtypes(include = 'category').columns, \n",
    "         var_y=tips.select_dtypes(include = 'float').columns,\n",
    "         hue=tips.select_dtypes(include = 'category').columns,\n",
    "         tplot=[\"boxplot\", \"lineplot\"]\n",
    "        ):         \n",
    "    if tplot == \"boxplot\":\n",
    "        sns.boxplot(data=tips, x=var_x, y=var_y, hue=hue);\n",
    "    else:\n",
    "        sns.lineplot(data=tips, x=var_x, y=var_y, hue=hue, \n",
    "                     err_style=\"bars\", ci=68, estimator='mean')"
   ]
  },
  {
   "cell_type": "code",
   "execution_count": 15,
   "metadata": {
    "slideshow": {
     "slide_type": "subslide"
    }
   },
   "outputs": [
    {
     "data": {
      "application/vnd.jupyter.widget-view+json": {
       "model_id": "c1758d17c98347338a160b508dea41d6",
       "version_major": 2,
       "version_minor": 0
      },
      "text/plain": [
       "interactive(children=(Dropdown(description='col_x', options=('total_bill', 'tip'), value='total_bill'), Dropdo…"
      ]
     },
     "metadata": {},
     "output_type": "display_data"
    }
   ],
   "source": [
    "@ipywidgets.interact\n",
    "def plot(col_x=tips.select_dtypes(include = 'float').columns, \n",
    "         col_y=tips.select_dtypes(include = 'float').columns, \n",
    "         hue=tips.select_dtypes(include = 'category').columns,\n",
    "         size=tips.select_dtypes(include = 'category').columns\n",
    "        ): \n",
    "    sns.scatterplot(data=tips, x=col_x, y=col_y, hue=hue, size=size)"
   ]
  },
  {
   "cell_type": "code",
   "execution_count": 16,
   "metadata": {
    "slideshow": {
     "slide_type": "subslide"
    }
   },
   "outputs": [
    {
     "data": {
      "application/vnd.jupyter.widget-view+json": {
       "model_id": "1ae9171dd3ad46f390061909890dc4c8",
       "version_major": 2,
       "version_minor": 0
      },
      "text/plain": [
       "interactive(children=(Dropdown(description='col', options=('sex', 'smoker', 'day', 'time'), value='sex'), Drop…"
      ]
     },
     "metadata": {},
     "output_type": "display_data"
    }
   ],
   "source": [
    "@ipywidgets.interact\n",
    "def plot(col=tips.select_dtypes(include = 'category').columns,\n",
    "         hue=tips.select_dtypes(include = 'category').columns,\n",
    "        ):          # categorical univariate plot\n",
    "    sns.countplot(x=col, hue=hue, data=tips);"
   ]
  },
  {
   "cell_type": "markdown",
   "metadata": {
    "slideshow": {
     "slide_type": "slide"
    }
   },
   "source": [
    "### Bono: Análisis exploratorio\n",
    "\n",
    "- Replicamos el ejercicio anterior usando **plotly** en lugar de seaborn. \n",
    "- Plotly crea gráficos interactivos a diferencia de los gráficos estáticos de seaborn. "
   ]
  },
  {
   "cell_type": "code",
   "execution_count": 17,
   "metadata": {
    "slideshow": {
     "slide_type": "slide"
    }
   },
   "outputs": [
    {
     "data": {
      "application/vnd.jupyter.widget-view+json": {
       "model_id": "44f11949d59c4f388594040682cf3903",
       "version_major": 2,
       "version_minor": 0
      },
      "text/plain": [
       "interactive(children=(Dropdown(description='col', options=('sex', 'smoker', 'day', 'time'), value='sex'), Outp…"
      ]
     },
     "metadata": {},
     "output_type": "display_data"
    }
   ],
   "source": [
    "tips = sns.load_dataset(\"tips\")\n",
    "@ipywidgets.interact\n",
    "def plot(col=tips.select_dtypes(include = 'category').columns):\n",
    "    df = tips.groupby(by=[col]).size().reset_index(name=\"counts\")\n",
    "    fig = px.bar(data_frame=df, x=col, y=\"counts\", color=col)\n",
    "    fig.show()"
   ]
  },
  {
   "cell_type": "code",
   "execution_count": 18,
   "metadata": {
    "slideshow": {
     "slide_type": "slide"
    }
   },
   "outputs": [
    {
     "data": {
      "application/vnd.jupyter.widget-view+json": {
       "model_id": "4922ca70493f46c290f062099ae07615",
       "version_major": 2,
       "version_minor": 0
      },
      "text/plain": [
       "interactive(children=(Dropdown(description='col_x', options=('total_bill', 'tip'), value='total_bill'), Dropdo…"
      ]
     },
     "metadata": {},
     "output_type": "display_data"
    }
   ],
   "source": [
    "@ipywidgets.interact\n",
    "def plot(col_x=tips.select_dtypes(include = 'float').columns, \n",
    "         hue=tips.select_dtypes(include = 'category').columns,\n",
    "         marginal=[\"box\", \"violin\", \"rug\"]\n",
    "        ):\n",
    "    fig = px.histogram(data_frame=tips, x=col_x, color=hue, marginal=marginal)\n",
    "    fig.show()"
   ]
  },
  {
   "cell_type": "code",
   "execution_count": 19,
   "metadata": {
    "slideshow": {
     "slide_type": "slide"
    }
   },
   "outputs": [
    {
     "data": {
      "application/vnd.jupyter.widget-view+json": {
       "model_id": "a132584abbcf4b9287e6b0593183bbfb",
       "version_major": 2,
       "version_minor": 0
      },
      "text/plain": [
       "interactive(children=(Dropdown(description='col_x', options=('total_bill', 'tip'), value='total_bill'), Dropdo…"
      ]
     },
     "metadata": {},
     "output_type": "display_data"
    }
   ],
   "source": [
    "@ipywidgets.interact\n",
    "def plot(col_x=tips.select_dtypes(include = 'float').columns, \n",
    "         hue=tips.select_dtypes(include = 'category').columns\n",
    "        ):\n",
    "    group_labels = tips[hue].unique()\n",
    "    groups = []\n",
    "    for gl in group_labels:\n",
    "        groups += [tips[col_x][tips[hue]==gl]]\n",
    "    fig = ff.create_distplot(groups, group_labels)\n",
    "    fig.show()"
   ]
  },
  {
   "cell_type": "code",
   "execution_count": 20,
   "metadata": {
    "slideshow": {
     "slide_type": "slide"
    }
   },
   "outputs": [
    {
     "data": {
      "application/vnd.jupyter.widget-view+json": {
       "model_id": "9fc6d5a4c0404f9aacf5d4aff41ab30d",
       "version_major": 2,
       "version_minor": 0
      },
      "text/plain": [
       "interactive(children=(Dropdown(description='var_x', options=('sex', 'smoker', 'day', 'time'), value='sex'), Dr…"
      ]
     },
     "metadata": {},
     "output_type": "display_data"
    }
   ],
   "source": [
    "@ipywidgets.interact\n",
    "def plot(var_x=tips.select_dtypes(include = 'category').columns, \n",
    "         var_y=tips.select_dtypes(include = 'float').columns,\n",
    "         hue=tips.select_dtypes(include = 'category').columns,\n",
    "         points=[\"outliers\", \"all\"], faceted = False\n",
    "        ):\n",
    "    if faceted: facet_ = hue\n",
    "    else: facet_ = None\n",
    "    fig = px.box(tips, x=var_x, y=var_y, color=hue, facet_col=facet_, points=points)\n",
    "    fig.show()"
   ]
  },
  {
   "cell_type": "code",
   "execution_count": 21,
   "metadata": {
    "slideshow": {
     "slide_type": "slide"
    }
   },
   "outputs": [
    {
     "data": {
      "application/vnd.jupyter.widget-view+json": {
       "model_id": "eb0e9071f1e44dd3bf7794e941fee87a",
       "version_major": 2,
       "version_minor": 0
      },
      "text/plain": [
       "interactive(children=(Dropdown(description='var_x', options=('total_bill', 'tip'), value='total_bill'), Dropdo…"
      ]
     },
     "metadata": {},
     "output_type": "display_data"
    }
   ],
   "source": [
    "@ipywidgets.interact\n",
    "def plot(var_x=tips.select_dtypes(include = 'float').columns, \n",
    "         var_y=tips.select_dtypes(include = 'float').columns, \n",
    "         hue=tips.select_dtypes(include = 'category').columns,\n",
    "         marker=tips.select_dtypes(include = 'category').columns,\n",
    "         faceted = False\n",
    "        ):\n",
    "    if faceted: facet_ = hue\n",
    "    else: facet_ = None\n",
    "    fig = px.scatter(data_frame=tips, x=var_x, y=var_y, color=hue, symbol=marker, facet_col=facet_)\n",
    "    fig.show()"
   ]
  },
  {
   "cell_type": "code",
   "execution_count": 22,
   "metadata": {
    "slideshow": {
     "slide_type": "slide"
    }
   },
   "outputs": [
    {
     "data": {
      "application/vnd.jupyter.widget-view+json": {
       "model_id": "0e8e5aecefad414f9fb7544e1136cbd2",
       "version_major": 2,
       "version_minor": 0
      },
      "text/plain": [
       "interactive(children=(Dropdown(description='col', options=('sex', 'smoker', 'day', 'time'), value='sex'), Drop…"
      ]
     },
     "metadata": {},
     "output_type": "display_data"
    }
   ],
   "source": [
    "from plotly.offline import iplot\n",
    "\n",
    "@ipywidgets.interact\n",
    "def plot(col=tips.select_dtypes(include = 'category').columns,\n",
    "         hue=tips.select_dtypes(include = 'category').columns,\n",
    "        ):          # categorical univariate plot\n",
    "    if col==hue:\n",
    "        df = tips.groupby(by=[col]).size().reset_index(name=\"counts\")\n",
    "    else:\n",
    "        df = tips.groupby(by=[col, hue]).size().reset_index(name=\"counts\")\n",
    "    fig = px.bar(data_frame=df, x=col, y=\"counts\", color=hue, barmode=\"group\")\n",
    "    fig.show()"
   ]
  }
 ],
 "metadata": {
  "celltoolbar": "Slideshow",
  "kernelspec": {
   "display_name": "Python 3",
   "language": "python",
   "name": "python3"
  },
  "language_info": {
   "codemirror_mode": {
    "name": "ipython",
    "version": 3
   },
   "file_extension": ".py",
   "mimetype": "text/x-python",
   "name": "python",
   "nbconvert_exporter": "python",
   "pygments_lexer": "ipython3",
   "version": "3.8.3"
  }
 },
 "nbformat": 4,
 "nbformat_minor": 2
}
