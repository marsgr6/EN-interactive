{
 "cells": [
  {
   "cell_type": "markdown",
   "metadata": {
    "slideshow": {
     "slide_type": "slide"
    }
   },
   "source": [
    "# Probabilidad y estadística interactiva"
   ]
  },
  {
   "cell_type": "markdown",
   "metadata": {
    "slideshow": {
     "slide_type": "notes"
    }
   },
   "source": [
    "## using\n",
    "\n",
    "* ipywidgets\n",
    "* seaborn"
   ]
  },
  {
   "cell_type": "markdown",
   "metadata": {
    "slideshow": {
     "slide_type": "notes"
    }
   },
   "source": [
    "* voila\n",
    "* reveal"
   ]
  },
  {
   "cell_type": "code",
   "execution_count": 1,
   "metadata": {
    "slideshow": {
     "slide_type": "-"
    }
   },
   "outputs": [],
   "source": [
    "import numpy as np\n",
    "import matplotlib.pyplot as plt\n",
    "from scipy.stats import norm\n",
    "from scipy.stats import t\n",
    "from scipy.stats import expon\n",
    "from scipy.stats import binom\n",
    "from scipy.stats import uniform\n",
    "import ipywidgets as widgets\n",
    "from IPython.display import display\n",
    "from IPython.display import display_html\n",
    "import seaborn as sns\n",
    "import pandas as pd\n",
    "import plotly.express as px\n",
    "import ipywidgets\n",
    "import plotly.figure_factory as ff"
   ]
  },
  {
   "cell_type": "markdown",
   "metadata": {
    "slideshow": {
     "slide_type": "slide"
    }
   },
   "source": [
    "### Número de bines en un histograma\n",
    "\n",
    "- No hay un número \"mejor\" de bines. Diferentes números de bines pueden revelar diferentes características de los datos.\n",
    "- Aunque existen varias pautas y reglas generales para determinar un número \"óptimo\" de bines, estos métodos generalmente hacen fuertes suposiciones sobre la forma de la distribución. \n",
    "  - Según la distribución real de los datos y los objetivos del análisis, pueden ser apropiados diferentes anchos de intervalo, por lo que generalmente **se necesita experimentación para determinar un número de bines apropiado.** \n",
    "  \n",
    "- Vaya a la diapositiva abajo y determine el número adecuado de bines. "
   ]
  },
  {
   "cell_type": "code",
   "execution_count": 2,
   "metadata": {
    "slideshow": {
     "slide_type": "subslide"
    }
   },
   "outputs": [
    {
     "data": {
      "application/vnd.jupyter.widget-view+json": {
       "model_id": "672d224938f7436d8a47dd09ba185fdc",
       "version_major": 2,
       "version_minor": 0
      },
      "text/plain": [
       "VBox(children=(SelectionSlider(description='Número de bines', index=1, layout=Layout(width='70%'), options=(1,…"
      ]
     },
     "metadata": {},
     "output_type": "display_data"
    },
    {
     "data": {
      "application/vnd.jupyter.widget-view+json": {
       "model_id": "e21d65a654e94d21a3554a3737cda330",
       "version_major": 2,
       "version_minor": 0
      },
      "text/plain": [
       "Output()"
      ]
     },
     "metadata": {},
     "output_type": "display_data"
    }
   ],
   "source": [
    "np.random.seed(123)\n",
    "size = 100\n",
    "\n",
    "# create some exponential random data\n",
    "values = expon.rvs(scale=1/4, size=size)\n",
    "\n",
    "# Create gaussian noise\n",
    "noise = norm.rvs(loc=1, size=size)\n",
    "\n",
    "real_data = values + np.abs(noise)\n",
    "\n",
    "def hist_bins(b):\n",
    "    plt.figure(figsize=(8,6))\n",
    "    #plt.hist(real_data, bins=b, density=True, edgecolor=\"seagreen\")\n",
    "    ax = sns.histplot(x=real_data, bins=b, stat=\"density\", kde=True)\n",
    "    ax.lines[0].set_color('crimson')\n",
    "\n",
    "b = widgets.SelectionSlider(options=list(range(1,11))+[20, 30, 50, 100], value=2,\n",
    "    description='Número de bines',\n",
    "    layout=widgets.Layout(width='70%'))\n",
    "b.style = {'description_width': '300px'}\n",
    "\n",
    "ui = widgets.VBox(children=[b])\n",
    "\n",
    "out = widgets.interactive_output(hist_bins, {'b': b})\n",
    "\n",
    "display(ui, out)"
   ]
  },
  {
   "cell_type": "code",
   "execution_count": 3,
   "metadata": {
    "slideshow": {
     "slide_type": "subslide"
    }
   },
   "outputs": [
    {
     "data": {
      "application/vnd.jupyter.widget-view+json": {
       "model_id": "575d674e362e48de97f2e00f34aff41c",
       "version_major": 2,
       "version_minor": 0
      },
      "text/plain": [
       "VBox(children=(Label(value='¿El número adecuado de bines es?'), Dropdown(description='Seleccione un número de …"
      ]
     },
     "metadata": {},
     "output_type": "display_data"
    },
    {
     "data": {
      "application/vnd.jupyter.widget-view+json": {
       "model_id": "8407367bbbaf482bbb05972b130d0d1b",
       "version_major": 2,
       "version_minor": 0
      },
      "text/plain": [
       "Output()"
      ]
     },
     "metadata": {},
     "output_type": "display_data"
    }
   ],
   "source": [
    "l = widgets.Label(\"¿El número adecuado de bines es?\")\n",
    "\n",
    "n = widgets.Dropdown(options=[1, 2, 3, 4, 5, 6, 7, 8, 9, 10], value=1,\n",
    "    description='Seleccione un número de bines',\n",
    "    layout=widgets.Layout(width='70%'))\n",
    "n.style = {'description_width': '300px'}\n",
    "\n",
    "a = widgets.Text(value=\" \",\n",
    "    description='La respuesta es',\n",
    "    layout=widgets.Layout(width='70%'))\n",
    "a.style = {'description_width': '300px'}\n",
    "\n",
    "ui = widgets.VBox(children=[l, n, a])\n",
    "\n",
    "def answer(n):\n",
    "    if n==4:\n",
    "        a.value = \"Correcta!\"\n",
    "    else:\n",
    "        a.value = \"Incorrecta!\"\n",
    "\n",
    "out = out = widgets.interactive_output(answer, {'n': n})\n",
    "display(ui, out)"
   ]
  },
  {
   "cell_type": "markdown",
   "metadata": {
    "slideshow": {
     "slide_type": "slide"
    }
   },
   "source": [
    "### Explorando la correlación\n",
    "\n",
    "- A continuación se muestran ejemplos de diagramas de dispersión de varios conjuntos de datos con varios coeficientes de correlación.\n",
    "- Vaya a la diapositiva abajo y seleccione el coeficiente de correlación entre -1 y 1. \n",
    "- También puede cambiar el tamaño de la muestra y observar la correlación de acuerdo al número de puntos observados. "
   ]
  },
  {
   "cell_type": "code",
   "execution_count": 4,
   "metadata": {
    "slideshow": {
     "slide_type": "subslide"
    }
   },
   "outputs": [
    {
     "data": {
      "application/vnd.jupyter.widget-view+json": {
       "model_id": "2a173c36d5b94ebb948a9c5f531f1819",
       "version_major": 2,
       "version_minor": 0
      },
      "text/plain": [
       "VBox(children=(SelectionSlider(description='Correlación', index=10, layout=Layout(width='70%'), options=(-1.0,…"
      ]
     },
     "metadata": {},
     "output_type": "display_data"
    },
    {
     "data": {
      "application/vnd.jupyter.widget-view+json": {
       "model_id": "06bfc982409c4501ad716c6d8f72d762",
       "version_major": 2,
       "version_minor": 0
      },
      "text/plain": [
       "Output()"
      ]
     },
     "metadata": {},
     "output_type": "display_data"
    }
   ],
   "source": [
    "mean = [0, 0]\n",
    "\n",
    "def cov_plot(c, n, l):\n",
    "    np.random.seed(123456)\n",
    "    cov = [[1, c], [c, 1]]\n",
    "    x, y = np.random.multivariate_normal(mean, cov, n).T\n",
    "    data = pd.DataFrame({'x': x, 'y': y})\n",
    "    s = sns.lmplot(data=data, x='x', y='y', height=7, aspect=1, fit_reg=l,\n",
    "                   scatter_kws={\"s\": 20, 'alpha': 0.5, 'color': \"seagreen\"},\n",
    "                   line_kws={'color': 'orange'}\n",
    "                  )\n",
    "\n",
    "c = widgets.SelectionSlider(value=0, options=[-1.0, -0.9, -0.8, -0.7, -0.6, \n",
    "                                              -0.5, -0.4, -0.3, -0.2, -0.1] + \n",
    "                            [0.0, 0.1, 0.2, 0.3, 0.4, 0.5, 0.6, 0.7, 0.8, 0.9, 1.0],\n",
    "                            description='Correlación',\n",
    "                            layout=widgets.Layout(width='70%'))\n",
    "c.style = {'description_width': '300px'}\n",
    "\n",
    "n = widgets.SelectionSlider(value=100, \n",
    "                            options=list(range(10,101,10))+[200, 500, 1000, 5000],\n",
    "                            description='Tamaño de muestra',\n",
    "                            layout=widgets.Layout(width='70%'))\n",
    "n.style = {'description_width': '300px'}\n",
    "\n",
    "l = widgets.Checkbox(\n",
    "    value=True,\n",
    "    description='Regresión lineal',\n",
    "    layout=widgets.Layout(width='70%'))\n",
    "l.style = {'description_width': '300px'}\n",
    "\n",
    "ui = widgets.VBox(children=[c, n, l])\n",
    "\n",
    "out = widgets.interactive_output(cov_plot, {'c':c, 'n': n, 'l': l})\n",
    "\n",
    "display(ui, out)"
   ]
  },
  {
   "cell_type": "markdown",
   "metadata": {
    "slideshow": {
     "slide_type": "slide"
    }
   },
   "source": [
    "### Función de masa y función acumulada de probabilidad\n",
    "\n",
    "- Para una variable aleatoria discreta $X$ con valores posibles $x_1, x_2, x_3, \\cdots , x_n$, una función de masa de probabilidad $f(x_i)$ es una función que cumple las siguientes condiciones:\n",
    "    \n",
    "  1. $f(x_i) \\geq 0$\n",
    "  2. $\\sum^n_{i=1} f(x_i) = 1$\n",
    "  3. $f(x_i) = P(X = x_i)$\n",
    "  \n",
    "- Para una variabel aleatoria discreta $X$, la Función de Distribución Acumulada $F(x)$ satisface las siguientes propiedades:\n",
    "  1. $F(x)=P(X \\leq x) = \\sum_{x_i \\leq x} f(x_i)$\n",
    "  2. $0 \\leq F(x) \\leq 1$\n",
    "  3. Si $x \\leq y$, entonces $F(x) \\leq F(y)$"
   ]
  },
  {
   "cell_type": "code",
   "execution_count": 5,
   "metadata": {
    "slideshow": {
     "slide_type": "subslide"
    }
   },
   "outputs": [
    {
     "data": {
      "application/vnd.jupyter.widget-view+json": {
       "model_id": "1a26517a4fdf4b87b188b83b385ee44d",
       "version_major": 2,
       "version_minor": 0
      },
      "text/plain": [
       "VBox(children=(Label(value='De los valores de a, b y c.'), Label(value='Su respuesta es: (a) Incorrecta, (b) I…"
      ]
     },
     "metadata": {},
     "output_type": "display_data"
    },
    {
     "data": {
      "application/vnd.jupyter.widget-view+json": {
       "model_id": "fde8fb8ac1af46b3ab4b9fc495db46cd",
       "version_major": 2,
       "version_minor": 0
      },
      "text/plain": [
       "Output()"
      ]
     },
     "metadata": {},
     "output_type": "display_data"
    }
   ],
   "source": [
    "def centered(content):\n",
    "    display_html(f\"<center>{content}</center>\", raw=True)\n",
    "\n",
    "def pmf_cdf(a, b, c):\n",
    "    d = pd.DataFrame({\"x\": [-1, 0, 1, 4], \"p(x)\": ['0.2', '0.5', a, '0.1'],\n",
    "                      \"F(x)\": [b, '0.7', c, '1.0'],\n",
    "                     })\n",
    "    \n",
    "    true_values = {\"a\": \"0.2\", \"b\": \"0.2\", \"c\": \"0.9\"}\n",
    "    \n",
    "    correct_values = {v: eval(v).value==true_values[v] for v in true_values}\n",
    "    \n",
    "    lf.value = \"Su respuesta es: \"+', '.join([\"(\"+tv+\") Correcta\" if correct_values[tv] \n",
    "                                              else \"(\"+tv+\") Incorrecta\" \n",
    "               for i, tv in enumerate(correct_values)])+\".\"\n",
    "    \n",
    "    centered(d.to_html(index=False))\n",
    "\n",
    "l = widgets.Label(r\"De los valores de a, b y c.\")\n",
    "lf = widgets.Label(\"\")\n",
    "\n",
    "a = widgets.Dropdown(options=['a', '0.0', '0.1', '0.2', '0.5', '0.8', '0.9', '1.0'], value='a',\n",
    "    description='Valor de a',\n",
    "    layout=widgets.Layout(width='70%'))\n",
    "a.style = {'description_width': '300px'}\n",
    "\n",
    "b = widgets.Dropdown(options=['b', '0.0', '0.1', '0.2', '0.5', '0.8', '0.9', '1.0'], value='b',\n",
    "    description='Valor de b',\n",
    "    layout=widgets.Layout(width='70%'))\n",
    "b.style = {'description_width': '300px'}\n",
    "\n",
    "c = widgets.Dropdown(options=['c', '0.0', '0.1', '0.2', '0.5', '0.8', '0.9', '1.0'], value='c',\n",
    "    description='Valor de c',\n",
    "    layout=widgets.Layout(width='70%'))\n",
    "c.style = {'description_width': '300px'}\n",
    "\n",
    "ui = widgets.VBox(children=[l, lf, a, b, c])\n",
    "out = widgets.interactive_output(pmf_cdf, {'a': a, 'b': b, 'c': c})\n",
    "\n",
    "display(ui, out)"
   ]
  },
  {
   "cell_type": "markdown",
   "metadata": {
    "slideshow": {
     "slide_type": "slide"
    }
   },
   "source": [
    "### Lanzando monedas (distribución binomial)\n",
    "\n",
    "- Para la siguiente distribución binomial, elija el número de monedas $n$ que desea lanzar\n",
    "$X\\sim binom(p=0.5, n)$. \n",
    "- El resultado cuenta el número de caras obtenidas al lanzar $n$ monedas. \n",
    "\n",
    "  - Por ejemplo al lanzar 2 monedas pueden obtenerse $x \\in \\{0, 1, 2\\}$ caras. \n",
    "\n",
    "- Elija el número de lanzamientos que desea realizar, a medida que este número sea más grande, más cercano será el valor observado en la muestra al valor teórico (PMF). "
   ]
  },
  {
   "cell_type": "code",
   "execution_count": 6,
   "metadata": {
    "slideshow": {
     "slide_type": "subslide"
    }
   },
   "outputs": [
    {
     "data": {
      "application/vnd.jupyter.widget-view+json": {
       "model_id": "c073e6ae572a4646a99dc1de6d8b5a50",
       "version_major": 2,
       "version_minor": 0
      },
      "text/plain": [
       "VBox(children=(SelectionSlider(description='Número de monedas a lanzar', layout=Layout(width='70%'), options=(…"
      ]
     },
     "metadata": {},
     "output_type": "display_data"
    },
    {
     "data": {
      "application/vnd.jupyter.widget-view+json": {
       "model_id": "8d0790dfe78a4087ae2a949acc59f46c",
       "version_major": 2,
       "version_minor": 0
      },
      "text/plain": [
       "Output()"
      ]
     },
     "metadata": {},
     "output_type": "display_data"
    }
   ],
   "source": [
    "def coin(n, p, s):\n",
    "    X = binom.rvs(n, p, size=s)\n",
    "    x, freq = np.unique(X, return_counts=True)\n",
    "    plt.figure(figsize=(8,6))\n",
    "    plt.bar(x, freq/s, label=\"Simulación\")\n",
    "    plt.xlabel(\"Número de caras\")\n",
    "    if n == 100:\n",
    "        plt.xticks(range(x.min(), x.max()+1, 2))\n",
    "    else:\n",
    "        plt.xticks(x)\n",
    "    plt.plot(x, binom.pmf(x, n, p), ':or', label=\"PMF\")\n",
    "    plt.legend()\n",
    "\n",
    "n = widgets.SelectionSlider(options=list(range(1,11))+[10, 50, 100], value=1,\n",
    "    description='Número de monedas a lanzar',\n",
    "    layout=widgets.Layout(width='70%'))\n",
    "n.style = {'description_width': '300px'}\n",
    "\n",
    "p = widgets.SelectionSlider(value=0.5, options=[0.1, 0.2, 0.3, 0.4, 0.5, 0.6, 0.7, 0.8, 0.9],\n",
    "                            description='Probabilidad (cara)',\n",
    "                            layout=widgets.Layout(width='70%'))\n",
    "p.style = {'description_width': '300px'}\n",
    "\n",
    "s = widgets.Dropdown(options=[10, 100, 1000, 10000, 100000], value=100,\n",
    "    description='Número de lanzamientos',\n",
    "    layout=widgets.Layout(width='70%'))\n",
    "s.style = {'description_width': '300px'}\n",
    "\n",
    "ui = widgets.VBox(children=[n, p, s])\n",
    "\n",
    "out = widgets.interactive_output(coin, {'n': n, 's': s, 'p': p})\n",
    "\n",
    "display(ui, out)"
   ]
  },
  {
   "cell_type": "markdown",
   "metadata": {
    "slideshow": {
     "slide_type": "slide"
    }
   },
   "source": [
    "### Teorema del límte central\n",
    "\n",
    "- Elija el tamaño de muestra $n$ para el cual quiere calcular la media muestral $\\bar{X}$. \n",
    "  - Este proceso se repite muchas veces y se grafica un histograma de la media muestral.\n",
    "- Se grafica la PDF de la distribución normal $\\bar{X} \\sim N(\\mu, \\sigma^2/\\sqrt{n})$.\n",
    "  - El teorema del límite central nos dice que $\\bar{X}$ sigue dicha distribución para un tamaño lo suficientemente grande de $n$. \n",
    "- El muestreo proviene de 2 distribuciones:\n",
    "  - Uniforme $X\\sim U(a=0, b=1)$ con: $\\mu=1/2,\\ \\sigma^2 = 1/12$.\n",
    "  - Exponencial $X\\sim Expon(\\lambda=2)$ con: $\\mu=2,\\ \\sigma^2 = 4$."
   ]
  },
  {
   "cell_type": "code",
   "execution_count": 7,
   "metadata": {
    "slideshow": {
     "slide_type": "subslide"
    }
   },
   "outputs": [
    {
     "data": {
      "application/vnd.jupyter.widget-view+json": {
       "model_id": "9779d7d8449949358e8487fdc0e8163f",
       "version_major": 2,
       "version_minor": 0
      },
      "text/plain": [
       "VBox(children=(Dropdown(description='Tamaño de muestra', layout=Layout(width='70%'), options=(1, 2, 5, 10, 30,…"
      ]
     },
     "metadata": {},
     "output_type": "display_data"
    },
    {
     "data": {
      "application/vnd.jupyter.widget-view+json": {
       "model_id": "36c5bae079e84add962ec9f3dbfe2a2c",
       "version_major": 2,
       "version_minor": 0
      },
      "text/plain": [
       "Output()"
      ]
     },
     "metadata": {},
     "output_type": "display_data"
    }
   ],
   "source": [
    "def clt(n, dist):\n",
    "    simulations = 10000\n",
    "    if dist==\"Uniforme\":\n",
    "        X_bar = np.random.random(size=(simulations,n)).mean(axis=1)\n",
    "        mu, sigma2 = 1/2, 1/12  # mu, sigma of the population distribution\n",
    "    if dist==\"Exponencial\":\n",
    "        X_bar = expon.rvs(scale=2, size=(simulations,n)).mean(axis=1)\n",
    "        mu, sigma2 = 2, 4  # mu, sigma of the population distribution\n",
    "    plt.figure(figsize=(8,6))\n",
    "    plt.hist(X_bar, bins=40, density=True, edgecolor=\"seagreen\", label=r\"$\\bar{X}$\")\n",
    "    xl, xu = X_bar.min(), X_bar.max()\n",
    "    x = np.linspace(xl, xu, 500)\n",
    "    plt.plot(x, norm.pdf(x, loc=mu, scale=np.sqrt(sigma2/n)), \n",
    "             linewidth=2, color=\"crimson\", label=r\"$N(\\mu, \\sigma^2/\\sqrt{n})$\")\n",
    "    plt.legend()\n",
    "    \n",
    "\n",
    "n = widgets.Dropdown(options=[1, 2, 5, 10, 30, 100], value=1,\n",
    "    description='Tamaño de muestra',\n",
    "    layout=widgets.Layout(width='70%'))\n",
    "n.style = {'description_width': '300px'}\n",
    "\n",
    "dist = widgets.Dropdown(options=[\"Uniforme\", \"Exponencial\"], value=\"Uniforme\",\n",
    "                       description='Distribución',\n",
    "    layout=widgets.Layout(width='70%'))\n",
    "dist.style = {'description_width': '300px'}\n",
    "\n",
    "ui = widgets.VBox(children=[n, dist])\n",
    "\n",
    "out = widgets.interactive_output(clt, {'n': n, 'dist': dist})\n",
    "\n",
    "display(ui, out)"
   ]
  },
  {
   "cell_type": "markdown",
   "metadata": {
    "slideshow": {
     "slide_type": "slide"
    }
   },
   "source": [
    "### Exactitud y precisión de un estimador $\\theta_j$\n",
    "\n",
    "\n",
    "<img src=\"https://raw.githubusercontent.com/marsgr6/r-scripts/master/imgs/Illustration-of-the-precision-and-the-accuracy-of-an-estimator.png\" alt=\"drawing\" width=\"400\"/>"
   ]
  },
  {
   "cell_type": "code",
   "execution_count": 8,
   "metadata": {
    "slideshow": {
     "slide_type": "subslide"
    }
   },
   "outputs": [
    {
     "data": {
      "application/vnd.jupyter.widget-view+json": {
       "model_id": "3bc43c220358400b8923d2ae18c42fa1",
       "version_major": 2,
       "version_minor": 0
      },
      "text/plain": [
       "VBox(children=(Dropdown(description='Tamaño de muestra', layout=Layout(width='70%'), options=(10, 20, 30, 50, …"
      ]
     },
     "metadata": {},
     "output_type": "display_data"
    },
    {
     "data": {
      "application/vnd.jupyter.widget-view+json": {
       "model_id": "7068fba249a2472cacdab316a5e17e12",
       "version_major": 2,
       "version_minor": 0
      },
      "text/plain": [
       "Output()"
      ]
     },
     "metadata": {},
     "output_type": "display_data"
    }
   ],
   "source": [
    "def throw_darts(n, e, p):\n",
    "    smx, smy = [np.random.choice([-1, 1], size=2)][0]\n",
    "    exactitud = {'Alta': (0, 0), 'Media': (0.5, 0.5), 'Baja': (2, 2)}\n",
    "    precision = {'Alta': (0.1, 0.1), 'Media': (0.25, 0.25), 'Baja': (1, 1)}\n",
    "    mx, my = exactitud[e]\n",
    "    sx, sy = precision[p]\n",
    "    mx *= smx; my *= smy\n",
    "    dart_x = norm.rvs(mx, sx, size=n)\n",
    "    dart_y = norm.rvs(my, sy, size=n)\n",
    "\n",
    "    plt.figure(figsize=(8,8))\n",
    "\n",
    "    plt.plot(0, 0, 'ok', label=\"Target\")\n",
    "    plt.plot(dart_x, dart_y, 'x')\n",
    "\n",
    "    circle1 = plt.Circle((0,0),1,color='b', fill=False)\n",
    "    plt.gcf().gca().add_artist(circle1)\n",
    "    circle1 = plt.Circle((0,0),2,color='g', fill=False)\n",
    "    plt.gcf().gca().add_artist(circle1)\n",
    "    circle1 = plt.Circle((0,0),3,color='r', fill=False)\n",
    "    plt.gcf().gca().add_artist(circle1)\n",
    "\n",
    "    plt.xlim(-5, 5)\n",
    "    plt.ylim(-5, 5)\n",
    "    plt.gca().set_aspect('equal', adjustable='box')\n",
    "    plt.legend()\n",
    "    \n",
    "\n",
    "n = widgets.Dropdown(options=[10, 20, 30, 50, 100], value=10,\n",
    "    description='Tamaño de muestra',\n",
    "    layout=widgets.Layout(width='70%'))\n",
    "n.style = {'description_width': '300px'}\n",
    "\n",
    "e = widgets.Dropdown(options=[\"Alta\", \"Media\", \"Baja\"], value=\"Alta\",\n",
    "                       description='Exactitud',\n",
    "    layout=widgets.Layout(width='70%'))\n",
    "e.style = {'description_width': '300px'}\n",
    "\n",
    "p = widgets.Dropdown(options=[\"Alta\", \"Media\", \"Baja\"], value=\"Alta\",\n",
    "                       description='Precisión',\n",
    "    layout=widgets.Layout(width='70%'))\n",
    "p.style = {'description_width': '300px'}\n",
    "\n",
    "ui = widgets.VBox(children=[n, e, p])\n",
    "\n",
    "out = widgets.interactive_output(throw_darts, {'n': n, 'e': e, 'p': p})\n",
    "\n",
    "display(ui, out)"
   ]
  },
  {
   "cell_type": "markdown",
   "metadata": {
    "slideshow": {
     "slide_type": "subslide"
    }
   },
   "source": [
    "### Exactitud y precisión\n",
    "\n",
    "- Experimenta por tu cuenta"
   ]
  },
  {
   "cell_type": "code",
   "execution_count": 9,
   "metadata": {
    "slideshow": {
     "slide_type": "subslide"
    }
   },
   "outputs": [
    {
     "data": {
      "application/vnd.jupyter.widget-view+json": {
       "model_id": "dd9baec67d5248f99aaee4b5d944c0ca",
       "version_major": 2,
       "version_minor": 0
      },
      "text/plain": [
       "VBox(children=(SelectionSlider(description='Media X', index=3, layout=Layout(width='70%'), options=(-2, -1, -0…"
      ]
     },
     "metadata": {},
     "output_type": "display_data"
    },
    {
     "data": {
      "application/vnd.jupyter.widget-view+json": {
       "model_id": "2200f207602147eaa8b2350a70730a88",
       "version_major": 2,
       "version_minor": 0
      },
      "text/plain": [
       "Output()"
      ]
     },
     "metadata": {},
     "output_type": "display_data"
    }
   ],
   "source": [
    "def throw_darts(mx, my, sx, sy, n=20):\n",
    "    dart_x = norm.rvs(mx, sx, size=n)\n",
    "    dart_y = norm.rvs(my, sy, size=n)\n",
    "\n",
    "    plt.figure(figsize=(8,8))\n",
    "\n",
    "    plt.plot(0, 0, 'ok', label=\"Target\")\n",
    "    plt.plot(dart_x, dart_y, 'x')\n",
    "\n",
    "    circle1 = plt.Circle((0,0),1,color='b', fill=False)\n",
    "    plt.gcf().gca().add_artist(circle1)\n",
    "    circle1 = plt.Circle((0,0),2,color='g', fill=False)\n",
    "    plt.gcf().gca().add_artist(circle1)\n",
    "    circle1 = plt.Circle((0,0),3,color='r', fill=False)\n",
    "    plt.gcf().gca().add_artist(circle1)\n",
    "\n",
    "    plt.xlim(-5, 5)\n",
    "    plt.ylim(-5, 5)\n",
    "    plt.gca().set_aspect('equal', adjustable='box')\n",
    "    plt.legend()\n",
    "    \n",
    "\n",
    "mx = widgets.SelectionSlider(value=0, options=[-2, -1, -0.5, 0, 0.5, 1, 2],\n",
    "                            description='Media X',\n",
    "                            layout=widgets.Layout(width='70%'))\n",
    "mx.style = {'description_width': '300px'}\n",
    "\n",
    "my = widgets.SelectionSlider(value=0, options=[-2, -1, -0.5, 0, 0.5, 1, 2],\n",
    "                            description='Media Y',\n",
    "                            layout=widgets.Layout(width='70%'))\n",
    "my.style = {'description_width': '300px'}\n",
    "\n",
    "sx = widgets.SelectionSlider(value=0.1, options=[0, 0.1, 0.2, 0.3, 0.4, 0.5, 0.75, 1.0],\n",
    "                            description='Desviación X',\n",
    "                            layout=widgets.Layout(width='70%'))\n",
    "sx.style = {'description_width': '300px'}\n",
    "\n",
    "sy = widgets.SelectionSlider(value=0.1, options=[0, 0.1, 0.2, 0.3, 0.4, 0.5, 0.75, 1.0],\n",
    "                            description='Desviación Y',\n",
    "                            layout=widgets.Layout(width='70%'))\n",
    "sy.style = {'description_width': '300px'}\n",
    "\n",
    "ui = widgets.VBox(children=[mx, my, sx, sy])\n",
    "\n",
    "out = widgets.interactive_output(throw_darts, {'mx': mx, 'my': my, 'sx': sx, 'sy': sy})\n",
    "\n",
    "display(ui, out)"
   ]
  },
  {
   "cell_type": "markdown",
   "metadata": {
    "slideshow": {
     "slide_type": "slide"
    }
   },
   "source": [
    "### Intervalo t de confianza para la media\n",
    "\n",
    "- Vamos a realizar un muestreo de una distribución normal estándar $X\\sim N(0,1)$.\n",
    "- Construiremos un intervalo t para la media. \n",
    "- Vea como cambia el ancho del intervalo de acuerdo al nivel de confianza y al tamaño de muestra. "
   ]
  },
  {
   "cell_type": "code",
   "execution_count": 10,
   "metadata": {
    "slideshow": {
     "slide_type": "subslide"
    }
   },
   "outputs": [
    {
     "data": {
      "application/vnd.jupyter.widget-view+json": {
       "model_id": "7723c4643b9749f7bf8176f96794a504",
       "version_major": 2,
       "version_minor": 0
      },
      "text/plain": [
       "VBox(children=(SelectionSlider(description='Nivel de confianza', index=1, layout=Layout(width='70%'), options=…"
      ]
     },
     "metadata": {},
     "output_type": "display_data"
    },
    {
     "data": {
      "application/vnd.jupyter.widget-view+json": {
       "model_id": "dccee7bc48974af49721c55d1329df96",
       "version_major": 2,
       "version_minor": 0
      },
      "text/plain": [
       "Output()"
      ]
     },
     "metadata": {},
     "output_type": "display_data"
    }
   ],
   "source": [
    "def interval(nc, n, size=100):\n",
    "    alpha = 1 - nc\n",
    "    df = n - 1  # grados de libertad para t\n",
    "\n",
    "    # Estamos muestreando la distribución uniforme estándar\n",
    "    mu = 0  # mu: media poblacional\n",
    "\n",
    "    U = norm.rvs(size=(size,n))  # uniform rvs\n",
    "    Um = np.mean(U, axis=1)  # media muestral \n",
    "    Us = np.std(U, ddof=1, axis=1)  # varianza muestral\n",
    "    se = Us / np.sqrt(n)  # error estándar\n",
    "\n",
    "    ICL, ICU = t.interval(1-alpha, df, loc=Um, scale=se)  # Intervalo de confianza \n",
    "\n",
    "    CI = np.vstack([ICL, ICU]).transpose()  # unimos ICL, ICU en 2 columnas\n",
    "    # comprobamos que mu está en el intervalo\n",
    "    # para esto debe cumplirse que limite inferior < mu y límite superior mayor que mu\n",
    "    # np.logical_and(CI[:,0] < mu, CI[:,1] > mu)\n",
    "    # ubicamos los índices donde se cumple la condición anterior \n",
    "    # np.where(condicion)[]\n",
    "    cont = np.where(np.logical_and(CI[:,0] < mu, CI[:,1] > mu))[0]\n",
    "\n",
    "    plt.figure(figsize=(8,8))\n",
    "\n",
    "    # Graficamos cada intervalo como una línea horizontal\n",
    "    # Si el intervalo contiene la media poblacinal mu es negro\n",
    "    # rojo en caso contrario\n",
    "    for pos, limits in enumerate(CI):\n",
    "        if pos in cont:  # está dentro del intervalo\n",
    "            col = 'k'  # color negro\n",
    "        else:  # está fuera del intervalo\n",
    "            col = 'r'  # color rojo\n",
    "        plt.hlines(pos+1, limits[0], limits[1], colors=col)  # línea horizontal\n",
    "        plt.plot(Um[pos], pos+1, '.', c=col)\n",
    "\n",
    "    plt.vlines(mu, 0, size+1, colors='b', label=r\"$\\mu$\")\n",
    "    plt.legend()\n",
    "\n",
    "    # Contemos cuantas veces el intervalo contiene la media poblacional\n",
    "    # Si el intervalo (lineal horizontal) contiene la media, este se intersecta con la línea vertical azul\n",
    "    l.value = \"La media poblacional está en el intervalo \"+str(np.shape(cont)[0]/size*100)+\"% de las veces.\"\n",
    "    \n",
    "    \n",
    "nc = widgets.SelectionSlider(value=0.9, options=[0.68, 0.9, 0.95, 0.99],\n",
    "                            description='Nivel de confianza',\n",
    "                            layout=widgets.Layout(width='70%'))\n",
    "nc.style = {'description_width': '300px'}\n",
    "\n",
    "n = widgets.Dropdown(options=[10, 30, 100, 500, 1000], value=30,\n",
    "    description='Tamaño de muestra',\n",
    "    layout=widgets.Layout(width='70%'))\n",
    "n.style = {'description_width': '300px'}\n",
    "\n",
    "l = widgets.Label(\" \")\n",
    "\n",
    "ui = widgets.VBox(children=[nc, n, l])\n",
    "\n",
    "out = widgets.interactive_output(interval, {'nc': nc, 'n': n})\n",
    "\n",
    "display(ui, out)"
   ]
  },
  {
   "cell_type": "markdown",
   "metadata": {
    "slideshow": {
     "slide_type": "slide"
    }
   },
   "source": [
    "### Bono: Análisis exploratorio\n",
    "\n",
    "- Para realizar un análisis exploratorio de datos (EDA), así como para visualizar efectivamente un conjunto de datos es necesario tener interactividad. \n",
    "  - La interactividad permite flexibilidad al usuario para elegir las variables a explorar. \n",
    "\n",
    "- Para la interactividad usaremos **ipywidgets** junto con **seaborn** para visualizar los datos. \n",
    "\n",
    "  - Vea el siguiente [enlace](https://ppeng08.medium.com/interactive-visualization-for-exploratory-data-analysis-in-jupyter-notebook-adc826e1e76a)."
   ]
  },
  {
   "cell_type": "code",
   "execution_count": 11,
   "metadata": {
    "slideshow": {
     "slide_type": "subslide"
    }
   },
   "outputs": [
    {
     "data": {
      "application/vnd.jupyter.widget-view+json": {
       "model_id": "702bdaac74d7407ebf90226258d95b63",
       "version_major": 2,
       "version_minor": 0
      },
      "text/plain": [
       "interactive(children=(Dropdown(description='col', options=('sex', 'smoker', 'day', 'time'), value='sex'), Outp…"
      ]
     },
     "metadata": {},
     "output_type": "display_data"
    }
   ],
   "source": [
    "tips = sns.load_dataset(\"tips\")\n",
    "@ipywidgets.interact\n",
    "def plot(col=tips.select_dtypes(include = 'category').columns):          # categorical univariate plot\n",
    "    plt.figure(figsize=(8,6))\n",
    "    sns.countplot(y=col, data=tips);                                     # y indicates horizontal plot"
   ]
  },
  {
   "cell_type": "code",
   "execution_count": 12,
   "metadata": {
    "slideshow": {
     "slide_type": "subslide"
    }
   },
   "outputs": [
    {
     "data": {
      "application/vnd.jupyter.widget-view+json": {
       "model_id": "b550044d88ba4a799d50ac57e9c774da",
       "version_major": 2,
       "version_minor": 0
      },
      "text/plain": [
       "interactive(children=(Dropdown(description='col_x', options=('total_bill', 'tip'), value='total_bill'), Dropdo…"
      ]
     },
     "metadata": {},
     "output_type": "display_data"
    }
   ],
   "source": [
    "@ipywidgets.interact\n",
    "def plot(col_x=tips.select_dtypes(include = 'float').columns, \n",
    "         hue=tips.select_dtypes(include = 'category').columns,\n",
    "         element=[\"bars\", \"step\", \"poly\"]\n",
    "        ):\n",
    "    sns.displot(data=tips, x=col_x, hue=hue, element=element);"
   ]
  },
  {
   "cell_type": "code",
   "execution_count": 13,
   "metadata": {
    "slideshow": {
     "slide_type": "subslide"
    }
   },
   "outputs": [
    {
     "data": {
      "application/vnd.jupyter.widget-view+json": {
       "model_id": "d457ad004dad4e749d0bd8c6dda2ec0c",
       "version_major": 2,
       "version_minor": 0
      },
      "text/plain": [
       "interactive(children=(Dropdown(description='var_x', options=('sex', 'smoker', 'day', 'time'), value='sex'), Dr…"
      ]
     },
     "metadata": {},
     "output_type": "display_data"
    }
   ],
   "source": [
    "@ipywidgets.interact\n",
    "def plot(var_x=tips.select_dtypes(include = 'category').columns, \n",
    "         var_y=tips.select_dtypes(include = 'float').columns,\n",
    "         hue=tips.select_dtypes(include = 'category').columns,\n",
    "         tplot=[\"boxplot\", \"lineplot\"]\n",
    "        ):         \n",
    "    if tplot == \"boxplot\":\n",
    "        sns.boxplot(data=tips, x=var_x, y=var_y, hue=hue);\n",
    "    else:\n",
    "        sns.lineplot(data=tips, x=var_x, y=var_y, hue=hue, \n",
    "                     err_style=\"bars\", ci=68, estimator='mean')"
   ]
  },
  {
   "cell_type": "code",
   "execution_count": 14,
   "metadata": {
    "slideshow": {
     "slide_type": "subslide"
    }
   },
   "outputs": [
    {
     "data": {
      "application/vnd.jupyter.widget-view+json": {
       "model_id": "c5f3b704438e4a6eaf44ffb011093438",
       "version_major": 2,
       "version_minor": 0
      },
      "text/plain": [
       "interactive(children=(Dropdown(description='col_x', options=('total_bill', 'tip'), value='total_bill'), Dropdo…"
      ]
     },
     "metadata": {},
     "output_type": "display_data"
    }
   ],
   "source": [
    "@ipywidgets.interact\n",
    "def plot(col_x=tips.select_dtypes(include = 'float').columns, \n",
    "         col_y=tips.select_dtypes(include = 'float').columns, \n",
    "         hue=tips.select_dtypes(include = 'category').columns,\n",
    "         size=tips.select_dtypes(include = 'category').columns\n",
    "        ): \n",
    "    sns.scatterplot(data=tips, x=col_x, y=col_y, hue=hue, size=size)"
   ]
  },
  {
   "cell_type": "code",
   "execution_count": 15,
   "metadata": {
    "slideshow": {
     "slide_type": "subslide"
    }
   },
   "outputs": [
    {
     "data": {
      "application/vnd.jupyter.widget-view+json": {
       "model_id": "709537dec9e8412095e09f658e53ada2",
       "version_major": 2,
       "version_minor": 0
      },
      "text/plain": [
       "interactive(children=(Dropdown(description='col', options=('sex', 'smoker', 'day', 'time'), value='sex'), Drop…"
      ]
     },
     "metadata": {},
     "output_type": "display_data"
    }
   ],
   "source": [
    "@ipywidgets.interact\n",
    "def plot(col=tips.select_dtypes(include = 'category').columns,\n",
    "         hue=tips.select_dtypes(include = 'category').columns,\n",
    "        ):          # categorical univariate plot\n",
    "    sns.countplot(x=col, hue=hue, data=tips);"
   ]
  },
  {
   "cell_type": "markdown",
   "metadata": {
    "slideshow": {
     "slide_type": "slide"
    }
   },
   "source": [
    "### Bono: Análisis exploratorio\n",
    "\n",
    "- Replicamos el ejercicio anterior usando **plotly** en lugar de seaborn. \n",
    "- Plotly crea gráficos interactivos a diferencia de los gráficos estáticos de seaborn. "
   ]
  },
  {
   "cell_type": "code",
   "execution_count": 21,
   "metadata": {
    "slideshow": {
     "slide_type": "slide"
    }
   },
   "outputs": [
    {
     "data": {
      "application/vnd.jupyter.widget-view+json": {
       "model_id": "49288bafda8d4a63bfd92b63d8218577",
       "version_major": 2,
       "version_minor": 0
      },
      "text/plain": [
       "interactive(children=(Dropdown(description='col', options=('sex', 'smoker', 'day', 'time'), value='sex'), Outp…"
      ]
     },
     "metadata": {},
     "output_type": "display_data"
    }
   ],
   "source": [
    "tips = sns.load_dataset(\"tips\")\n",
    "@ipywidgets.interact\n",
    "def plot(col=tips.select_dtypes(include = 'category').columns):\n",
    "    df = tips.groupby(by=[col]).size().reset_index(name=\"counts\")\n",
    "    fig = px.bar(data_frame=df, x=col, y=\"counts\", color=col)\n",
    "    fig.show()"
   ]
  },
  {
   "cell_type": "code",
   "execution_count": 22,
   "metadata": {
    "slideshow": {
     "slide_type": "slide"
    }
   },
   "outputs": [
    {
     "data": {
      "application/vnd.jupyter.widget-view+json": {
       "model_id": "eeda58fe9fec49e5ae55eff80e96f311",
       "version_major": 2,
       "version_minor": 0
      },
      "text/plain": [
       "interactive(children=(Dropdown(description='col_x', options=('total_bill', 'tip'), value='total_bill'), Dropdo…"
      ]
     },
     "metadata": {},
     "output_type": "display_data"
    }
   ],
   "source": [
    "@ipywidgets.interact\n",
    "def plot(col_x=tips.select_dtypes(include = 'float').columns, \n",
    "         hue=tips.select_dtypes(include = 'category').columns,\n",
    "         marginal=[\"box\", \"violin\", \"rug\"]\n",
    "        ):\n",
    "    fig = px.histogram(data_frame=tips, x=col_x, color=hue, marginal=marginal)\n",
    "    fig.show()"
   ]
  },
  {
   "cell_type": "code",
   "execution_count": 23,
   "metadata": {
    "slideshow": {
     "slide_type": "slide"
    }
   },
   "outputs": [
    {
     "data": {
      "application/vnd.jupyter.widget-view+json": {
       "model_id": "0f41ea5f18564248badaa1414f89a862",
       "version_major": 2,
       "version_minor": 0
      },
      "text/plain": [
       "interactive(children=(Dropdown(description='col_x', options=('total_bill', 'tip'), value='total_bill'), Dropdo…"
      ]
     },
     "metadata": {},
     "output_type": "display_data"
    }
   ],
   "source": [
    "@ipywidgets.interact\n",
    "def plot(col_x=tips.select_dtypes(include = 'float').columns, \n",
    "         hue=tips.select_dtypes(include = 'category').columns\n",
    "        ):\n",
    "    group_labels = tips[hue].unique()\n",
    "    groups = []\n",
    "    for gl in group_labels:\n",
    "        groups += [tips[col_x][tips[hue]==gl]]\n",
    "    fig = ff.create_distplot(groups, group_labels)\n",
    "    fig.show()"
   ]
  },
  {
   "cell_type": "code",
   "execution_count": 24,
   "metadata": {
    "slideshow": {
     "slide_type": "slide"
    }
   },
   "outputs": [
    {
     "data": {
      "application/vnd.jupyter.widget-view+json": {
       "model_id": "35400d7efb394e80abd1a0bd7741f597",
       "version_major": 2,
       "version_minor": 0
      },
      "text/plain": [
       "interactive(children=(Dropdown(description='col_x', options=('total_bill', 'tip'), value='total_bill'), Dropdo…"
      ]
     },
     "metadata": {},
     "output_type": "display_data"
    }
   ],
   "source": [
    "@ipywidgets.interact\n",
    "def plot(col_x=tips.select_dtypes(include = 'float').columns, \n",
    "         col_y=tips.select_dtypes(include = 'float').columns, \n",
    "         hue=tips.select_dtypes(include = 'category').columns,\n",
    "         marker=tips.select_dtypes(include = 'category').columns\n",
    "        ): \n",
    "    fig = px.scatter(data_frame=tips, x=col_x, y=col_y, color=hue, symbol=marker)\n",
    "    fig.show()"
   ]
  },
  {
   "cell_type": "code",
   "execution_count": 25,
   "metadata": {
    "slideshow": {
     "slide_type": "slide"
    }
   },
   "outputs": [
    {
     "data": {
      "application/vnd.jupyter.widget-view+json": {
       "model_id": "b6033c26dc994a39aae441f838faa816",
       "version_major": 2,
       "version_minor": 0
      },
      "text/plain": [
       "interactive(children=(Dropdown(description='col', options=('sex', 'smoker', 'day', 'time'), value='sex'), Drop…"
      ]
     },
     "metadata": {},
     "output_type": "display_data"
    }
   ],
   "source": [
    "from plotly.offline import iplot\n",
    "\n",
    "@ipywidgets.interact\n",
    "def plot(col=tips.select_dtypes(include = 'category').columns,\n",
    "         hue=tips.select_dtypes(include = 'category').columns,\n",
    "        ):          # categorical univariate plot\n",
    "    if col==hue:\n",
    "        df = tips.groupby(by=[col]).size().reset_index(name=\"counts\")\n",
    "    else:\n",
    "        df = tips.groupby(by=[col, hue]).size().reset_index(name=\"counts\")\n",
    "    fig = px.bar(data_frame=df, x=col, y=\"counts\", color=hue, barmode=\"group\")\n",
    "    fig.show()"
   ]
  }
 ],
 "metadata": {
  "celltoolbar": "Slideshow",
  "kernelspec": {
   "display_name": "Python 3",
   "language": "python",
   "name": "python3"
  },
  "language_info": {
   "codemirror_mode": {
    "name": "ipython",
    "version": 3
   },
   "file_extension": ".py",
   "mimetype": "text/x-python",
   "name": "python",
   "nbconvert_exporter": "python",
   "pygments_lexer": "ipython3",
   "version": "3.8.3"
  }
 },
 "nbformat": 4,
 "nbformat_minor": 2
}
